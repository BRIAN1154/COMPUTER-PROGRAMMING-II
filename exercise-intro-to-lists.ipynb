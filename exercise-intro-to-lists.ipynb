{
 "cells": [
  {
   "cell_type": "markdown",
   "id": "2f58a625",
   "metadata": {
    "papermill": {
     "duration": 0.005892,
     "end_time": "2025-02-26T06:50:14.093489",
     "exception": false,
     "start_time": "2025-02-26T06:50:14.087597",
     "status": "completed"
    },
    "tags": []
   },
   "source": [
    "**This notebook is an exercise in the [Intro to Programming](https://www.kaggle.com/learn/intro-to-programming) course.  You can reference the tutorial at [this link](https://www.kaggle.com/alexisbcook/intro-to-lists).**\n",
    "\n",
    "---\n"
   ]
  },
  {
   "cell_type": "markdown",
   "id": "963ddca2",
   "metadata": {
    "papermill": {
     "duration": 0.004961,
     "end_time": "2025-02-26T06:50:14.104049",
     "exception": false,
     "start_time": "2025-02-26T06:50:14.099088",
     "status": "completed"
    },
    "tags": []
   },
   "source": [
    "In the tutorial, you learned how to define and modify Python lists.  In this exercise, you will use your new knowledge to solve several problems.\n",
    "\n",
    "# Set up the notebook\n",
    "\n",
    "Run the next code cell without changes to set up the notebook."
   ]
  },
  {
   "cell_type": "code",
   "execution_count": 1,
   "id": "d0a1e6e1",
   "metadata": {
    "execution": {
     "iopub.execute_input": "2025-02-26T06:50:14.115591Z",
     "iopub.status.busy": "2025-02-26T06:50:14.115269Z",
     "iopub.status.idle": "2025-02-26T06:50:15.324238Z",
     "shell.execute_reply": "2025-02-26T06:50:15.322954Z"
    },
    "papermill": {
     "duration": 1.216947,
     "end_time": "2025-02-26T06:50:15.326129",
     "exception": false,
     "start_time": "2025-02-26T06:50:14.109182",
     "status": "completed"
    },
    "tags": []
   },
   "outputs": [
    {
     "name": "stdout",
     "output_type": "stream",
     "text": [
      "Setup complete.\n"
     ]
    }
   ],
   "source": [
    "from learntools.core import binder\n",
    "binder.bind(globals())\n",
    "from learntools.intro_to_programming.ex5 import *\n",
    "print('Setup complete.')"
   ]
  },
  {
   "cell_type": "markdown",
   "id": "ea332a37",
   "metadata": {
    "papermill": {
     "duration": 0.005073,
     "end_time": "2025-02-26T06:50:15.336979",
     "exception": false,
     "start_time": "2025-02-26T06:50:15.331906",
     "status": "completed"
    },
    "tags": []
   },
   "source": [
    "# Question 1\n",
    "\n",
    "You own a restaurant with five food dishes, organized in the Python list `menu` below.  One day, you decide to:\n",
    "- remove bean soup (`'bean soup'`) from the menu, and\n",
    "- add roasted beet salad (`'roasted beet salad'`) to the menu.\n",
    "\n",
    "Implement this change to the list below.  While completing this task, \n",
    "- do not change the line that creates the `menu` list.  \n",
    "- your answer should use `.remove()` and `.append()`.  "
   ]
  },
  {
   "cell_type": "code",
   "execution_count": 2,
   "id": "eeb3260a",
   "metadata": {
    "execution": {
     "iopub.execute_input": "2025-02-26T06:50:15.349174Z",
     "iopub.status.busy": "2025-02-26T06:50:15.348602Z",
     "iopub.status.idle": "2025-02-26T06:50:15.357430Z",
     "shell.execute_reply": "2025-02-26T06:50:15.356241Z"
    },
    "papermill": {
     "duration": 0.01663,
     "end_time": "2025-02-26T06:50:15.358942",
     "exception": false,
     "start_time": "2025-02-26T06:50:15.342312",
     "status": "completed"
    },
    "tags": []
   },
   "outputs": [
    {
     "data": {
      "application/javascript": [
       "parent.postMessage({\"jupyterEvent\": \"custom.exercise_interaction\", \"data\": {\"outcomeType\": 1, \"valueTowardsCompletion\": 0.2, \"interactionType\": 1, \"questionType\": 2, \"questionId\": \"1_FoodMenu\", \"learnToolsVersion\": \"0.3.4\", \"failureMessage\": \"\", \"exceptionClass\": \"\", \"trace\": \"\"}}, \"*\")"
      ],
      "text/plain": [
       "<IPython.core.display.Javascript object>"
      ]
     },
     "metadata": {},
     "output_type": "display_data"
    },
    {
     "data": {
      "text/markdown": [
       "<span style=\"color:#33cc33\">Correct</span>"
      ],
      "text/plain": [
       "Correct"
      ]
     },
     "metadata": {},
     "output_type": "display_data"
    }
   ],
   "source": [
    "# Do not change: Initial menu for your restaurant\n",
    "menu = ['stewed meat with onions','bean soup', 'risotto with trout and shrimp',\n",
    "       'fish soup with cream and onion', 'gyro']\n",
    "\n",
    "# TODO: remove 'bean soup', and add 'roasted beet salad' to the end of the menu\n",
    "menu.remove('bean soup')\n",
    "menu.append('roasted beet salad')\n",
    "# Do not change: Check your answer\n",
    "q1.check()"
   ]
  },
  {
   "cell_type": "markdown",
   "id": "2c24d456",
   "metadata": {
    "papermill": {
     "duration": 0.005335,
     "end_time": "2025-02-26T06:50:15.369950",
     "exception": false,
     "start_time": "2025-02-26T06:50:15.364615",
     "status": "completed"
    },
    "tags": []
   },
   "source": [
    "# Question 1\n",
    "\n",
    "You own a restaurant with five food dishes, organized in the Python list `menu` below.  One day, you decide to:\n",
    "- remove bean soup (`'bean soup'`) from the menu, and\n",
    "- add roasted beet salad (`'roasted beet salad'`) to the menu.\n",
    "\n",
    "Implement this change to the list below.  While completing this task, \n",
    "- do not change the line that creates the `menu` list.  \n",
    "- your answer should use `.remove()` and `.append()`.  "
   ]
  },
  {
   "cell_type": "markdown",
   "id": "cd3226d9",
   "metadata": {
    "papermill": {
     "duration": 0.005233,
     "end_time": "2025-02-26T06:50:15.380719",
     "exception": false,
     "start_time": "2025-02-26T06:50:15.375486",
     "status": "completed"
    },
    "tags": []
   },
   "source": []
  },
  {
   "cell_type": "code",
   "execution_count": null,
   "id": "2f3d8cfa",
   "metadata": {
    "papermill": {
     "duration": 0.008227,
     "end_time": "2025-02-26T06:50:15.394574",
     "exception": false,
     "start_time": "2025-02-26T06:50:15.386347",
     "status": "completed"
    },
    "tags": []
   },
   "outputs": [],
   "source": []
  },
  {
   "cell_type": "markdown",
   "id": "da1a1c3a",
   "metadata": {
    "papermill": {
     "duration": 0.005233,
     "end_time": "2025-02-26T06:50:15.405542",
     "exception": false,
     "start_time": "2025-02-26T06:50:15.400309",
     "status": "completed"
    },
    "tags": []
   },
   "source": [
    "# Question 2\n",
    "\n",
    "The list `num_customers` contains the number of customers who came into your restaurant every day over the last month (which lasted thirty days).  Fill in values for each of the following:\n",
    "- `avg_first_seven` - average number of customers who visited in the first seven days\n",
    "- `avg_last_seven` - average number of customers who visited in the last seven days\n",
    "- `max_month` - number of customers on the day that got the most customers in the last month\n",
    "- `min_month` - number of customers on the day that got the least customers in the last month\n",
    "\n",
    "Answer this question by writing code.  For instance, if you have to find the minimum value in a list, use `min()` instead of scanning for the smallest value and directly filling in a number."
   ]
  },
  {
   "cell_type": "code",
   "execution_count": 3,
   "id": "013dbfbd",
   "metadata": {
    "execution": {
     "iopub.execute_input": "2025-02-26T06:50:15.418204Z",
     "iopub.status.busy": "2025-02-26T06:50:15.417791Z",
     "iopub.status.idle": "2025-02-26T06:50:15.426603Z",
     "shell.execute_reply": "2025-02-26T06:50:15.425489Z"
    },
    "papermill": {
     "duration": 0.017253,
     "end_time": "2025-02-26T06:50:15.428312",
     "exception": false,
     "start_time": "2025-02-26T06:50:15.411059",
     "status": "completed"
    },
    "tags": []
   },
   "outputs": [
    {
     "data": {
      "application/javascript": [
       "parent.postMessage({\"jupyterEvent\": \"custom.exercise_interaction\", \"data\": {\"outcomeType\": 1, \"valueTowardsCompletion\": 0.2, \"interactionType\": 1, \"questionType\": 1, \"questionId\": \"2_NumCustomers\", \"learnToolsVersion\": \"0.3.4\", \"failureMessage\": \"\", \"exceptionClass\": \"\", \"trace\": \"\"}}, \"*\")"
      ],
      "text/plain": [
       "<IPython.core.display.Javascript object>"
      ]
     },
     "metadata": {},
     "output_type": "display_data"
    },
    {
     "data": {
      "text/markdown": [
       "<span style=\"color:#33cc33\">Correct</span>"
      ],
      "text/plain": [
       "Correct"
      ]
     },
     "metadata": {},
     "output_type": "display_data"
    }
   ],
   "source": [
    "# Do not change: Number of customers each day for the last month\n",
    "num_customers = [137, 147, 135, 128, 170, 174, 165, 146, 126, 159,\n",
    "                 141, 148, 132, 147, 168, 153, 170, 161, 148, 152,\n",
    "                 141, 151, 131,149, 164, 163, 143, 143, 166, 171]\n",
    "\n",
    "# TODO: Fill in values for the variables below\n",
    "avg_first_seven = sum(num_customers[:7])/7 \n",
    "avg_last_seven = sum(num_customers[-7:])/7\n",
    "max_month = max(num_customers)\n",
    "min_month = min(num_customers)\n",
    "# Do not change: Check your answer\n",
    "q2.check()"
   ]
  },
  {
   "cell_type": "code",
   "execution_count": 4,
   "id": "da8c650b",
   "metadata": {
    "execution": {
     "iopub.execute_input": "2025-02-26T06:50:15.441775Z",
     "iopub.status.busy": "2025-02-26T06:50:15.441417Z",
     "iopub.status.idle": "2025-02-26T06:50:15.445051Z",
     "shell.execute_reply": "2025-02-26T06:50:15.444084Z"
    },
    "papermill": {
     "duration": 0.011557,
     "end_time": "2025-02-26T06:50:15.446367",
     "exception": false,
     "start_time": "2025-02-26T06:50:15.434810",
     "status": "completed"
    },
    "tags": []
   },
   "outputs": [],
   "source": [
    "# Uncomment to see a hint\n",
    "#q2.hint()\n",
    "\n",
    "# Uncomment to see the solution\n",
    "#q2.solution()"
   ]
  },
  {
   "cell_type": "markdown",
   "id": "4b00b6c7",
   "metadata": {
    "papermill": {
     "duration": 0.005491,
     "end_time": "2025-02-26T06:50:15.457584",
     "exception": false,
     "start_time": "2025-02-26T06:50:15.452093",
     "status": "completed"
    },
    "tags": []
   },
   "source": [
    "# Question 3\n",
    "\n",
    "In the tutorial, we gave an example of a Python string with information that was better as a list."
   ]
  },
  {
   "cell_type": "code",
   "execution_count": 5,
   "id": "ebd73015",
   "metadata": {
    "execution": {
     "iopub.execute_input": "2025-02-26T06:50:15.471987Z",
     "iopub.status.busy": "2025-02-26T06:50:15.471576Z",
     "iopub.status.idle": "2025-02-26T06:50:15.476002Z",
     "shell.execute_reply": "2025-02-26T06:50:15.474839Z"
    },
    "papermill": {
     "duration": 0.012646,
     "end_time": "2025-02-26T06:50:15.477575",
     "exception": false,
     "start_time": "2025-02-26T06:50:15.464929",
     "status": "completed"
    },
    "tags": []
   },
   "outputs": [],
   "source": [
    "flowers = \"pink primrose,hard-leaved pocket orchid,canterbury bells,sweet pea,english marigold,tiger lily,moon orchid,bird of paradise,monkshood,globe thistle\""
   ]
  },
  {
   "cell_type": "markdown",
   "id": "7462023f",
   "metadata": {
    "papermill": {
     "duration": 0.00554,
     "end_time": "2025-02-26T06:50:15.489035",
     "exception": false,
     "start_time": "2025-02-26T06:50:15.483495",
     "status": "completed"
    },
    "tags": []
   },
   "source": [
    "You can actually use Python to quickly turn this string into a list with `.split()`.  In the parentheses, we need to provide the character should be used to mark the end of one list item and the beginning of another, and enclose it in quotation marks.  In this case, that character is a comma."
   ]
  },
  {
   "cell_type": "code",
   "execution_count": 6,
   "id": "afe50697",
   "metadata": {
    "execution": {
     "iopub.execute_input": "2025-02-26T06:50:15.501817Z",
     "iopub.status.busy": "2025-02-26T06:50:15.501418Z",
     "iopub.status.idle": "2025-02-26T06:50:15.505947Z",
     "shell.execute_reply": "2025-02-26T06:50:15.504827Z"
    },
    "papermill": {
     "duration": 0.012586,
     "end_time": "2025-02-26T06:50:15.507437",
     "exception": false,
     "start_time": "2025-02-26T06:50:15.494851",
     "status": "completed"
    },
    "tags": []
   },
   "outputs": [
    {
     "name": "stdout",
     "output_type": "stream",
     "text": [
      "['pink primrose', 'hard-leaved pocket orchid', 'canterbury bells', 'sweet pea', 'english marigold', 'tiger lily', 'moon orchid', 'bird of paradise', 'monkshood', 'globe thistle']\n"
     ]
    }
   ],
   "source": [
    " print(flowers.split(\",\"))"
   ]
  },
  {
   "cell_type": "markdown",
   "id": "697d9096",
   "metadata": {
    "papermill": {
     "duration": 0.006132,
     "end_time": "2025-02-26T06:50:15.519901",
     "exception": false,
     "start_time": "2025-02-26T06:50:15.513769",
     "status": "completed"
    },
    "tags": []
   },
   "source": [
    "Now it is your turn to try this out!  Create two Python lists:\n",
    "- `letters` should be a Python list where each entry is an uppercase letter of the English alphabet.  For instance, the first two entries should be `\"A\"` and `\"B\"`, and the final two entries should be `\"Y\"` and `\"Z\"`.  Use the string `alphabet` to create this list.\n",
    "- `address` should be a Python list where each row in `address` is a different item in the list.  Currently, each row in `address` is separated by a comma. "
   ]
  },
  {
   "cell_type": "code",
   "execution_count": 7,
   "id": "f4cf1b9f",
   "metadata": {
    "execution": {
     "iopub.execute_input": "2025-02-26T06:50:15.533496Z",
     "iopub.status.busy": "2025-02-26T06:50:15.533138Z",
     "iopub.status.idle": "2025-02-26T06:50:15.541025Z",
     "shell.execute_reply": "2025-02-26T06:50:15.539812Z"
    },
    "papermill": {
     "duration": 0.016535,
     "end_time": "2025-02-26T06:50:15.542614",
     "exception": false,
     "start_time": "2025-02-26T06:50:15.526079",
     "status": "completed"
    },
    "tags": []
   },
   "outputs": [
    {
     "data": {
      "application/javascript": [
       "parent.postMessage({\"jupyterEvent\": \"custom.exercise_interaction\", \"data\": {\"outcomeType\": 1, \"valueTowardsCompletion\": 0.2, \"interactionType\": 1, \"questionType\": 1, \"questionId\": \"3_SplitString\", \"learnToolsVersion\": \"0.3.4\", \"failureMessage\": \"\", \"exceptionClass\": \"\", \"trace\": \"\"}}, \"*\")"
      ],
      "text/plain": [
       "<IPython.core.display.Javascript object>"
      ]
     },
     "metadata": {},
     "output_type": "display_data"
    },
    {
     "data": {
      "text/markdown": [
       "<span style=\"color:#33cc33\">Correct</span>"
      ],
      "text/plain": [
       "Correct"
      ]
     },
     "metadata": {},
     "output_type": "display_data"
    }
   ],
   "source": [
    "# DO not change: Define two Python strings\n",
    "alphabet = \"A.B.C.D.E.F.G.H.I.J.K.L.M.N.O.P.Q.R.S.T.U.V.W.X.Y.Z\"\n",
    "address = \"Mr. H. Potter,The cupboard under the Stairs,4 Privet Drive,Little Whinging,Surrey\"\n",
    "\n",
    "# TODO: Convert strings into Python lists\n",
    "letters = alphabet.split(\".\")\n",
    "formatted_address = address.split(\",\")\n",
    "\n",
    "# Do not change: Check your answer\n",
    "q3.check()"
   ]
  },
  {
   "cell_type": "code",
   "execution_count": 8,
   "id": "f20a0f59",
   "metadata": {
    "execution": {
     "iopub.execute_input": "2025-02-26T06:50:15.556265Z",
     "iopub.status.busy": "2025-02-26T06:50:15.555926Z",
     "iopub.status.idle": "2025-02-26T06:50:15.559714Z",
     "shell.execute_reply": "2025-02-26T06:50:15.558846Z"
    },
    "papermill": {
     "duration": 0.01254,
     "end_time": "2025-02-26T06:50:15.561387",
     "exception": false,
     "start_time": "2025-02-26T06:50:15.548847",
     "status": "completed"
    },
    "tags": []
   },
   "outputs": [],
   "source": [
    "# Uncomment to see a hint\n",
    "#q3.hint()\n",
    "\n",
    "# Uncomment to see the solution\n",
    "#q3.solution()"
   ]
  },
  {
   "cell_type": "markdown",
   "id": "482b8429",
   "metadata": {
    "papermill": {
     "duration": 0.005744,
     "end_time": "2025-02-26T06:50:15.573223",
     "exception": false,
     "start_time": "2025-02-26T06:50:15.567479",
     "status": "completed"
    },
    "tags": []
   },
   "source": [
    "# Question 4\n",
    "\n",
    "In the Python course, you'll learn all about **list comprehensions**, which allow you to create a list based on the values in another list.  In this question, you'll get a brief preview of how they work.\n",
    "\n",
    "Say we're working with the list below."
   ]
  },
  {
   "cell_type": "code",
   "execution_count": 9,
   "id": "b2ff8a36",
   "metadata": {
    "execution": {
     "iopub.execute_input": "2025-02-26T06:50:15.586272Z",
     "iopub.status.busy": "2025-02-26T06:50:15.585945Z",
     "iopub.status.idle": "2025-02-26T06:50:15.590045Z",
     "shell.execute_reply": "2025-02-26T06:50:15.588977Z"
    },
    "papermill": {
     "duration": 0.012496,
     "end_time": "2025-02-26T06:50:15.591627",
     "exception": false,
     "start_time": "2025-02-26T06:50:15.579131",
     "status": "completed"
    },
    "tags": []
   },
   "outputs": [],
   "source": [
    "test_ratings = [1, 2, 3, 4, 5]"
   ]
  },
  {
   "cell_type": "markdown",
   "id": "26794d02",
   "metadata": {
    "papermill": {
     "duration": 0.005597,
     "end_time": "2025-02-26T06:50:15.603257",
     "exception": false,
     "start_time": "2025-02-26T06:50:15.597660",
     "status": "completed"
    },
    "tags": []
   },
   "source": [
    "Then we can use this list (`test_ratings`) to create a new list (`test_liked`) where each item has been turned into a boolean, depending on whether or not the item is greater than or equal to four."
   ]
  },
  {
   "cell_type": "code",
   "execution_count": 10,
   "id": "d02fcdbf",
   "metadata": {
    "execution": {
     "iopub.execute_input": "2025-02-26T06:50:15.616078Z",
     "iopub.status.busy": "2025-02-26T06:50:15.615672Z",
     "iopub.status.idle": "2025-02-26T06:50:15.620923Z",
     "shell.execute_reply": "2025-02-26T06:50:15.619828Z"
    },
    "papermill": {
     "duration": 0.013659,
     "end_time": "2025-02-26T06:50:15.622757",
     "exception": false,
     "start_time": "2025-02-26T06:50:15.609098",
     "status": "completed"
    },
    "tags": []
   },
   "outputs": [
    {
     "name": "stdout",
     "output_type": "stream",
     "text": [
      "[False, False, False, True, True]\n"
     ]
    }
   ],
   "source": [
    "test_liked = [i>=4 for i in test_ratings]\n",
    "print(test_liked)"
   ]
  },
  {
   "cell_type": "markdown",
   "id": "cca14f5a",
   "metadata": {
    "papermill": {
     "duration": 0.00578,
     "end_time": "2025-02-26T06:50:15.634607",
     "exception": false,
     "start_time": "2025-02-26T06:50:15.628827",
     "status": "completed"
    },
    "tags": []
   },
   "source": [
    "In this question, you'll use this list comprehension to define a function `percentage_liked()` that takes one argument as input:\n",
    "- `ratings`: list of ratings that people gave to a movie, where each rating is a number between 1-5, inclusive\n",
    "\n",
    "We say someone liked the movie, if they gave a rating of either 4 or 5.  Your function should return the percentage of people who liked the movie.\n",
    "\n",
    "For instance, if we supply a value of `[1, 2, 3, 4, 5, 4, 5, 1]`, then 50% (4/8) of the people liked the movie, and the function should return `0.5`.\n",
    "\n",
    "Part of the function has already been completed for you.  You need only use `list_liked` to calculate `percentage_liked`."
   ]
  },
  {
   "cell_type": "code",
   "execution_count": 11,
   "id": "6f1c31d2",
   "metadata": {
    "execution": {
     "iopub.execute_input": "2025-02-26T06:50:15.648072Z",
     "iopub.status.busy": "2025-02-26T06:50:15.647683Z",
     "iopub.status.idle": "2025-02-26T06:50:15.655789Z",
     "shell.execute_reply": "2025-02-26T06:50:15.654835Z"
    },
    "papermill": {
     "duration": 0.0167,
     "end_time": "2025-02-26T06:50:15.657349",
     "exception": false,
     "start_time": "2025-02-26T06:50:15.640649",
     "status": "completed"
    },
    "tags": []
   },
   "outputs": [
    {
     "data": {
      "application/javascript": [
       "parent.postMessage({\"jupyterEvent\": \"custom.exercise_interaction\", \"data\": {\"outcomeType\": 1, \"valueTowardsCompletion\": 0.2, \"interactionType\": 1, \"questionType\": 2, \"questionId\": \"4_PercentageLiked\", \"learnToolsVersion\": \"0.3.4\", \"failureMessage\": \"\", \"exceptionClass\": \"\", \"trace\": \"\"}}, \"*\")"
      ],
      "text/plain": [
       "<IPython.core.display.Javascript object>"
      ]
     },
     "metadata": {},
     "output_type": "display_data"
    },
    {
     "data": {
      "text/markdown": [
       "<span style=\"color:#33cc33\">Correct</span>"
      ],
      "text/plain": [
       "Correct"
      ]
     },
     "metadata": {},
     "output_type": "display_data"
    }
   ],
   "source": [
    "\n",
    "def percentage_liked(ratings):\n",
    "    list_liked = [i>=4 for i in ratings]\n",
    "    # TODO: Complete the function\n",
    "    percentage_liked = sum(list_liked)/len(list_liked)\n",
    "    return percentage_liked\n",
    "\n",
    "# Do not change: should return 0.5\n",
    "percentage_liked([1, 2, 3, 4, 5, 4, 5, 1])\n",
    "\n",
    "# Do not change: Check your answer\n",
    "q4.check()"
   ]
  },
  {
   "cell_type": "code",
   "execution_count": 12,
   "id": "6e7876e4",
   "metadata": {
    "execution": {
     "iopub.execute_input": "2025-02-26T06:50:15.671588Z",
     "iopub.status.busy": "2025-02-26T06:50:15.671264Z",
     "iopub.status.idle": "2025-02-26T06:50:15.674968Z",
     "shell.execute_reply": "2025-02-26T06:50:15.673934Z"
    },
    "papermill": {
     "duration": 0.012952,
     "end_time": "2025-02-26T06:50:15.676876",
     "exception": false,
     "start_time": "2025-02-26T06:50:15.663924",
     "status": "completed"
    },
    "tags": []
   },
   "outputs": [],
   "source": [
    "# Uncomment to see a hint\n",
    "#q4.hint()\n",
    "\n",
    "# Uncomment to see the solution\n",
    "#q4.solution()"
   ]
  },
  {
   "cell_type": "markdown",
   "id": "a3a1a068",
   "metadata": {
    "papermill": {
     "duration": 0.00601,
     "end_time": "2025-02-26T06:50:15.689400",
     "exception": false,
     "start_time": "2025-02-26T06:50:15.683390",
     "status": "completed"
    },
    "tags": []
   },
   "source": [
    "# 🌶️ Question 5\n",
    " \n",
    "Say you're doing analytics for a website.  You need to write a function that returns the percentage growth in the total number of users relative to a specified number of years ago.\n",
    "\n",
    "Your function `percentage_growth()` should take two arguments as input:\n",
    "- `num_users` = Python list with the total number of users each year.  So `num_users[0]` is the total number of users in the first year, `num_users[1]` is the total number of users in the second year, and so on.  The final entry in the list gives the total number of users in the most recently completed year.\n",
    "- `yrs_ago` = number of years to go back in time when calculating the growth percentage\n",
    "\n",
    "For instance, say `num_users = [920344, 1043553, 1204334, 1458996, 1503323, 1593432, 1623463, 1843064, 1930992, 2001078]`.\n",
    "- if `yrs_ago = 1`, we want the function to return a value of about `0.036`. This corresponds to a percentage growth of approximately 3.6%, calculated as (2001078 - 1930992)/1930992.\n",
    "- if `years_ago = 7`, we would want to return approximately `0.66`.  This corresponds to a percentage growth of approximately 66%, calculated as (2001078 - 1204334)/1204334.\n",
    "\n",
    "Your coworker sent you a draft of a function, but it doesn't seem to be doing the correct calculation.  Can you figure out what has gone wrong and make the needed changes?"
   ]
  },
  {
   "cell_type": "code",
   "execution_count": 13,
   "id": "fdfcf570",
   "metadata": {
    "execution": {
     "iopub.execute_input": "2025-02-26T06:50:15.702950Z",
     "iopub.status.busy": "2025-02-26T06:50:15.702587Z",
     "iopub.status.idle": "2025-02-26T06:50:15.712269Z",
     "shell.execute_reply": "2025-02-26T06:50:15.711168Z"
    },
    "papermill": {
     "duration": 0.018297,
     "end_time": "2025-02-26T06:50:15.713849",
     "exception": false,
     "start_time": "2025-02-26T06:50:15.695552",
     "status": "completed"
    },
    "tags": []
   },
   "outputs": [
    {
     "name": "stdout",
     "output_type": "stream",
     "text": [
      "0.03629533421163837\n",
      "0.6615639847417742\n"
     ]
    },
    {
     "data": {
      "application/javascript": [
       "parent.postMessage({\"jupyterEvent\": \"custom.exercise_interaction\", \"data\": {\"outcomeType\": 1, \"valueTowardsCompletion\": 0.2, \"interactionType\": 1, \"questionType\": 2, \"questionId\": \"5_WebsiteAnalytics\", \"learnToolsVersion\": \"0.3.4\", \"failureMessage\": \"\", \"exceptionClass\": \"\", \"trace\": \"\"}}, \"*\")"
      ],
      "text/plain": [
       "<IPython.core.display.Javascript object>"
      ]
     },
     "metadata": {},
     "output_type": "display_data"
    },
    {
     "data": {
      "text/markdown": [
       "<span style=\"color:#33cc33\">Correct</span>"
      ],
      "text/plain": [
       "Correct"
      ]
     },
     "metadata": {},
     "output_type": "display_data"
    }
   ],
   "source": [
    "# TODO: Edit the function\n",
    "def percentage_growth(num_users, yrs_ago):\n",
    "    growth = (num_users[len(num_users)-1] - num_users[len(num_users)-yrs_ago-1])/num_users[len(num_users)-yrs_ago-1]\n",
    "    return growth\n",
    "\n",
    "# Do not change: Variable for calculating some test examples\n",
    "num_users_test = [920344, 1043553, 1204334, 1458996, 1503323, 1593432, 1623463, 1843064, 1930992, 2001078]\n",
    "\n",
    "# Do not change: Should return .036\n",
    "print(percentage_growth(num_users_test, 1))\n",
    "\n",
    "# Do not change: Should return 0.66\n",
    "print(percentage_growth(num_users_test, 7))\n",
    "\n",
    "# Do not change: Check your answer\n",
    "q5.check()"
   ]
  },
  {
   "cell_type": "code",
   "execution_count": 14,
   "id": "e1ef472c",
   "metadata": {
    "execution": {
     "iopub.execute_input": "2025-02-26T06:50:15.728409Z",
     "iopub.status.busy": "2025-02-26T06:50:15.728047Z",
     "iopub.status.idle": "2025-02-26T06:50:15.732213Z",
     "shell.execute_reply": "2025-02-26T06:50:15.731063Z"
    },
    "papermill": {
     "duration": 0.01324,
     "end_time": "2025-02-26T06:50:15.733849",
     "exception": false,
     "start_time": "2025-02-26T06:50:15.720609",
     "status": "completed"
    },
    "tags": []
   },
   "outputs": [],
   "source": [
    "# Uncomment to see a hint\n",
    "#q5.hint()\n",
    "\n",
    "# Uncomment to see the solution\n",
    "#q5.solution()"
   ]
  },
  {
   "cell_type": "markdown",
   "id": "7a98192b",
   "metadata": {
    "papermill": {
     "duration": 0.006243,
     "end_time": "2025-02-26T06:50:15.747008",
     "exception": false,
     "start_time": "2025-02-26T06:50:15.740765",
     "status": "completed"
    },
    "tags": []
   },
   "source": [
    "# Congratulations!\n",
    "\n",
    "Congratulations for finishing the Intro to Programming course!  You should be proud of your very first steps with learning programming.  As next steps, we recommend taking:\n",
    "- the **[Python course](http://www.kaggle.com/learn/python)**, and \n",
    "- the **[Intro to Machine Learning course](https://www.kaggle.com/learn/intro-to-machine-learning)**."
   ]
  },
  {
   "cell_type": "markdown",
   "id": "f3503aed",
   "metadata": {
    "papermill": {
     "duration": 0.006554,
     "end_time": "2025-02-26T06:50:15.759913",
     "exception": false,
     "start_time": "2025-02-26T06:50:15.753359",
     "status": "completed"
    },
    "tags": []
   },
   "source": [
    "---\n",
    "\n",
    "\n",
    "\n",
    "\n",
    "*Have questions or comments? Visit the [course discussion forum](https://www.kaggle.com/learn/intro-to-programming/discussion) to chat with other learners.*"
   ]
  }
 ],
 "metadata": {
  "kaggle": {
   "accelerator": "none",
   "dataSources": [],
   "isGpuEnabled": false,
   "isInternetEnabled": false,
   "language": "python",
   "sourceType": "notebook"
  },
  "kernelspec": {
   "display_name": "Python 3",
   "language": "python",
   "name": "python3"
  },
  "language_info": {
   "codemirror_mode": {
    "name": "ipython",
    "version": 3
   },
   "file_extension": ".py",
   "mimetype": "text/x-python",
   "name": "python",
   "nbconvert_exporter": "python",
   "pygments_lexer": "ipython3",
   "version": "3.10.12"
  },
  "papermill": {
   "default_parameters": {},
   "duration": 5.238066,
   "end_time": "2025-02-26T06:50:16.386464",
   "environment_variables": {},
   "exception": null,
   "input_path": "__notebook__.ipynb",
   "output_path": "__notebook__.ipynb",
   "parameters": {},
   "start_time": "2025-02-26T06:50:11.148398",
   "version": "2.6.0"
  }
 },
 "nbformat": 4,
 "nbformat_minor": 5
}
