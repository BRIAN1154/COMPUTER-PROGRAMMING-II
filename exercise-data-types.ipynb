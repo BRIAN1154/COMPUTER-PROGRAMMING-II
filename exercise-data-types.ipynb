{
 "cells": [
  {
   "cell_type": "markdown",
   "id": "8184ac4c",
   "metadata": {
    "papermill": {
     "duration": 0.005775,
     "end_time": "2025-02-26T07:45:38.082049",
     "exception": false,
     "start_time": "2025-02-26T07:45:38.076274",
     "status": "completed"
    },
    "tags": []
   },
   "source": [
    "**This notebook is an exercise in the [Intro to Programming](https://www.kaggle.com/learn/intro-to-programming) course.  You can reference the tutorial at [this link](https://www.kaggle.com/alexisbcook/data-types).**\n",
    "\n",
    "---\n"
   ]
  },
  {
   "cell_type": "markdown",
   "id": "25d41fd5",
   "metadata": {
    "papermill": {
     "duration": 0.004867,
     "end_time": "2025-02-26T07:45:38.092167",
     "exception": false,
     "start_time": "2025-02-26T07:45:38.087300",
     "status": "completed"
    },
    "tags": []
   },
   "source": [
    "In the tutorial, you learned about four different data types: floats, integers, strings, and booleans.  In this exercise, you'll experiment with them.\n",
    "\n",
    "# Set up the notebook\n",
    "\n",
    "Run the next code cell without changes to set up the notebook."
   ]
  },
  {
   "cell_type": "code",
   "execution_count": 1,
   "id": "1e93ac7b",
   "metadata": {
    "execution": {
     "iopub.execute_input": "2025-02-26T07:45:38.103827Z",
     "iopub.status.busy": "2025-02-26T07:45:38.103327Z",
     "iopub.status.idle": "2025-02-26T07:45:39.091789Z",
     "shell.execute_reply": "2025-02-26T07:45:39.090665Z"
    },
    "papermill": {
     "duration": 0.996262,
     "end_time": "2025-02-26T07:45:39.093465",
     "exception": false,
     "start_time": "2025-02-26T07:45:38.097203",
     "status": "completed"
    },
    "tags": []
   },
   "outputs": [
    {
     "name": "stdout",
     "output_type": "stream",
     "text": [
      "Setup complete.\n"
     ]
    }
   ],
   "source": [
    "# Set up the exercise\n",
    "from learntools.core import binder\n",
    "binder.bind(globals())\n",
    "from learntools.intro_to_programming.ex3 import *\n",
    "print('Setup complete.')"
   ]
  },
  {
   "cell_type": "markdown",
   "id": "d63ac59c",
   "metadata": {
    "papermill": {
     "duration": 0.004961,
     "end_time": "2025-02-26T07:45:39.104073",
     "exception": false,
     "start_time": "2025-02-26T07:45:39.099112",
     "status": "completed"
    },
    "tags": []
   },
   "source": [
    "# Question 1\n",
    "\n",
    "You have seen how to convert a float to an integer with the `int` function.  Try this out yourself by running the code cell below."
   ]
  },
  {
   "cell_type": "code",
   "execution_count": 2,
   "id": "a62d9329",
   "metadata": {
    "execution": {
     "iopub.execute_input": "2025-02-26T07:45:39.116155Z",
     "iopub.status.busy": "2025-02-26T07:45:39.115662Z",
     "iopub.status.idle": "2025-02-26T07:45:39.122099Z",
     "shell.execute_reply": "2025-02-26T07:45:39.121021Z"
    },
    "papermill": {
     "duration": 0.014506,
     "end_time": "2025-02-26T07:45:39.123867",
     "exception": false,
     "start_time": "2025-02-26T07:45:39.109361",
     "status": "completed"
    },
    "tags": []
   },
   "outputs": [
    {
     "name": "stdout",
     "output_type": "stream",
     "text": [
      "1.0\n",
      "<class 'float'>\n",
      "1\n",
      "<class 'int'>\n"
     ]
    }
   ],
   "source": [
    "# Define a float\n",
    "y = 1.\n",
    "print(y)\n",
    "print(type(y))\n",
    "\n",
    "# Convert float to integer with the int function\n",
    "z = int(y)\n",
    "print(z)\n",
    "print(type(z))"
   ]
  },
  {
   "cell_type": "markdown",
   "id": "2512ceaa",
   "metadata": {
    "papermill": {
     "duration": 0.005105,
     "end_time": "2025-02-26T07:45:39.134477",
     "exception": false,
     "start_time": "2025-02-26T07:45:39.129372",
     "status": "completed"
    },
    "tags": []
   },
   "source": [
    "In this case, the float you are using has no numbers after the decimal.  \n",
    "- But what happens when you try to convert a float with a fractional part to an integer?  \n",
    "- How does the outcome of the `int` function change for positive and negative numbers?\n",
    "\n",
    "Use the next code cell to investigate and answer these questions.  Feel free to add or remove any lines of code -- it is your workspace!"
   ]
  },
  {
   "cell_type": "code",
   "execution_count": 3,
   "id": "ea9f91b0",
   "metadata": {
    "execution": {
     "iopub.execute_input": "2025-02-26T07:45:39.146259Z",
     "iopub.status.busy": "2025-02-26T07:45:39.145923Z",
     "iopub.status.idle": "2025-02-26T07:45:39.152093Z",
     "shell.execute_reply": "2025-02-26T07:45:39.150754Z"
    },
    "papermill": {
     "duration": 0.014246,
     "end_time": "2025-02-26T07:45:39.154056",
     "exception": false,
     "start_time": "2025-02-26T07:45:39.139810",
     "status": "completed"
    },
    "tags": []
   },
   "outputs": [
    {
     "name": "stdout",
     "output_type": "stream",
     "text": [
      "1\n",
      "1\n",
      "-3\n",
      "-2\n"
     ]
    }
   ],
   "source": [
    "# Uncomment and run this code to get started!\n",
    "print(int(1.2321))\n",
    "print(int(1.747))\n",
    "print(int(-3.94535))\n",
    "print(int(-2.19774))"
   ]
  },
  {
   "cell_type": "markdown",
   "id": "848848ef",
   "metadata": {
    "papermill": {
     "duration": 0.005338,
     "end_time": "2025-02-26T07:45:39.165307",
     "exception": false,
     "start_time": "2025-02-26T07:45:39.159969",
     "status": "completed"
    },
    "tags": []
   },
   "source": [
    "Once you have an answer, run the code cell below to see the solution.  Viewing the solution will give you credit for answering the problem."
   ]
  },
  {
   "cell_type": "code",
   "execution_count": 4,
   "id": "5bc43481",
   "metadata": {
    "execution": {
     "iopub.execute_input": "2025-02-26T07:45:39.178018Z",
     "iopub.status.busy": "2025-02-26T07:45:39.177597Z",
     "iopub.status.idle": "2025-02-26T07:45:39.186066Z",
     "shell.execute_reply": "2025-02-26T07:45:39.185132Z"
    },
    "papermill": {
     "duration": 0.016507,
     "end_time": "2025-02-26T07:45:39.187659",
     "exception": false,
     "start_time": "2025-02-26T07:45:39.171152",
     "status": "completed"
    },
    "tags": []
   },
   "outputs": [
    {
     "data": {
      "application/javascript": [
       "parent.postMessage({\"jupyterEvent\": \"custom.exercise_interaction\", \"data\": {\"outcomeType\": 1, \"valueTowardsCompletion\": 0.2, \"interactionType\": 1, \"questionType\": 4, \"questionId\": \"1_FloatToInt\", \"learnToolsVersion\": \"0.3.4\", \"failureMessage\": \"\", \"exceptionClass\": \"\", \"trace\": \"\"}}, \"*\")"
      ],
      "text/plain": [
       "<IPython.core.display.Javascript object>"
      ]
     },
     "metadata": {},
     "output_type": "display_data"
    },
    {
     "data": {
      "text/markdown": [
       "<span style=\"color:#33cc33\">Correct:</span> \n",
       "\n",
       "Negative floats are always rounded UP to the closest integer (for instance, both -1.1 and -1.9 are rounded up to -1). Positive floats are always rounded DOWN to the closest integer (for instance, 2.1 and 2.9 are rounded down to 2)."
      ],
      "text/plain": [
       "Correct: \n",
       "\n",
       "Negative floats are always rounded UP to the closest integer (for instance, both -1.1 and -1.9 are rounded up to -1). Positive floats are always rounded DOWN to the closest integer (for instance, 2.1 and 2.9 are rounded down to 2)."
      ]
     },
     "metadata": {},
     "output_type": "display_data"
    }
   ],
   "source": [
    "# Check your answer (Run this code cell to receive credit!)\n",
    "q1.check()"
   ]
  },
  {
   "cell_type": "markdown",
   "id": "f5265790",
   "metadata": {
    "papermill": {
     "duration": 0.005405,
     "end_time": "2025-02-26T07:45:39.198996",
     "exception": false,
     "start_time": "2025-02-26T07:45:39.193591",
     "status": "completed"
    },
    "tags": []
   },
   "source": [
    "# Question 2\n",
    "\n",
    "In the tutorial, you learned about booleans (which can take a value of `True` or `False`), in addition to integers, floats, and strings.  For this question, your goal is to determine what happens when you multiply a boolean by any of these data types.  Specifically, \n",
    "- What happens when you multiply an integer or float by `True`?  What happens when you multiply them by `False`?  How does the answer change if the numbers are positive or negative?\n",
    "- What happens when you multiply a string by `True`?  By `False`?\n",
    "\n",
    "Use the next code cell for your investigation. "
   ]
  },
  {
   "cell_type": "code",
   "execution_count": 5,
   "id": "89e3fb51",
   "metadata": {
    "execution": {
     "iopub.execute_input": "2025-02-26T07:45:39.211551Z",
     "iopub.status.busy": "2025-02-26T07:45:39.211217Z",
     "iopub.status.idle": "2025-02-26T07:45:39.217238Z",
     "shell.execute_reply": "2025-02-26T07:45:39.216157Z"
    },
    "papermill": {
     "duration": 0.01438,
     "end_time": "2025-02-26T07:45:39.218962",
     "exception": false,
     "start_time": "2025-02-26T07:45:39.204582",
     "status": "completed"
    },
    "tags": []
   },
   "outputs": [
    {
     "name": "stdout",
     "output_type": "stream",
     "text": [
      "3\n",
      "-3.1\n",
      "<class 'str'>\n",
      "0\n"
     ]
    }
   ],
   "source": [
    "# Uncomment and run this code to get started!\n",
    "print(3 * True)\n",
    "print(-3.1 * True)\n",
    "print(type(\"abc\" * False))\n",
    "print(len(\"abc\" * False))"
   ]
  },
  {
   "cell_type": "markdown",
   "id": "dfaa7ea6",
   "metadata": {
    "papermill": {
     "duration": 0.005728,
     "end_time": "2025-02-26T07:45:39.230737",
     "exception": false,
     "start_time": "2025-02-26T07:45:39.225009",
     "status": "completed"
    },
    "tags": []
   },
   "source": [
    "Once you have an answer, run the code cell below to see the solution.  Viewing the solution will give you credit for answering the problem."
   ]
  },
  {
   "cell_type": "code",
   "execution_count": 6,
   "id": "de98629f",
   "metadata": {
    "execution": {
     "iopub.execute_input": "2025-02-26T07:45:39.243389Z",
     "iopub.status.busy": "2025-02-26T07:45:39.243047Z",
     "iopub.status.idle": "2025-02-26T07:45:39.250831Z",
     "shell.execute_reply": "2025-02-26T07:45:39.249737Z"
    },
    "papermill": {
     "duration": 0.015946,
     "end_time": "2025-02-26T07:45:39.252356",
     "exception": false,
     "start_time": "2025-02-26T07:45:39.236410",
     "status": "completed"
    },
    "tags": []
   },
   "outputs": [
    {
     "data": {
      "application/javascript": [
       "parent.postMessage({\"jupyterEvent\": \"custom.exercise_interaction\", \"data\": {\"outcomeType\": 1, \"valueTowardsCompletion\": 0.2, \"interactionType\": 1, \"questionType\": 4, \"questionId\": \"2_MultiplyBooleans\", \"learnToolsVersion\": \"0.3.4\", \"failureMessage\": \"\", \"exceptionClass\": \"\", \"trace\": \"\"}}, \"*\")"
      ],
      "text/plain": [
       "<IPython.core.display.Javascript object>"
      ]
     },
     "metadata": {},
     "output_type": "display_data"
    },
    {
     "data": {
      "text/markdown": [
       "<span style=\"color:#33cc33\">Correct:</span> \n",
       "\n",
       "When you multiple an integer or float by a boolean with value `True`, it just returns that same integer or float (and is equivalent to multiplying by 1).  If you multiply an integer or float by a boolean with value `False`, it always returns 0.  This is true for both positive and negative numbers.  If you multiply a string by a boolean with value `True`, it just returns that same string.  And if you multiply a string by a boolean with value `False`, it returns an empty string (or a string with length zero)."
      ],
      "text/plain": [
       "Correct: \n",
       "\n",
       "When you multiple an integer or float by a boolean with value `True`, it just returns that same integer or float (and is equivalent to multiplying by 1).  If you multiply an integer or float by a boolean with value `False`, it always returns 0.  This is true for both positive and negative numbers.  If you multiply a string by a boolean with value `True`, it just returns that same string.  And if you multiply a string by a boolean with value `False`, it returns an empty string (or a string with length zero)."
      ]
     },
     "metadata": {},
     "output_type": "display_data"
    }
   ],
   "source": [
    "# Check your answer (Run this code cell to receive credit!)\n",
    "q2.check()"
   ]
  },
  {
   "cell_type": "markdown",
   "id": "b4e47a0e",
   "metadata": {
    "papermill": {
     "duration": 0.005904,
     "end_time": "2025-02-26T07:45:39.264878",
     "exception": false,
     "start_time": "2025-02-26T07:45:39.258974",
     "status": "completed"
    },
    "tags": []
   },
   "source": [
    "# Question 3\n",
    "\n",
    "In this question, you will build off your work from the previous exercise to write a function that estimates the value of a house.\n",
    "\n",
    "Use the next code cell to create a function `get_expected_cost` that takes as input three variables:\n",
    "- `beds` - number of bedrooms (data type float)\n",
    "- `baths` - number of bathrooms (data type float)\n",
    "- `has_basement` - whether or not the house has a basement (data type boolean)\n",
    "\n",
    "It should return the expected cost of a house with those characteristics. Assume that:\n",
    "- the expected cost for a house with 0 bedrooms and 0 bathrooms, and no basement is 80000, \n",
    "- each bedroom adds 30000 to the expected cost,\n",
    "- each bathroom adds 10000 to the expected cost, and\n",
    "- a basement adds 40000 to the expected cost.\n",
    "\n",
    "For instance,\n",
    "- a house with 1 bedroom, 1 bathroom, and no basement has an expected cost of 80000 + 30000 + 10000 = 120000.  This value will be calculated with `get_expected_cost(1, 1, False)`.\n",
    "- a house with 2 bedrooms, 1 bathroom, and a basement has an expected cost of 80000 + 2*30000 + 10000 + 40000 = 190000.  This value will be calculated with `get_expected_cost(2, 1, True)`.\n",
    "\n",
    "Remember you can always get a hint by uncommenting `q3.hint()` in the code cell following the next!"
   ]
  },
  {
   "cell_type": "code",
   "execution_count": 7,
   "id": "c91c33ba",
   "metadata": {
    "execution": {
     "iopub.execute_input": "2025-02-26T07:45:39.278552Z",
     "iopub.status.busy": "2025-02-26T07:45:39.278221Z",
     "iopub.status.idle": "2025-02-26T07:45:39.286275Z",
     "shell.execute_reply": "2025-02-26T07:45:39.285256Z"
    },
    "papermill": {
     "duration": 0.017037,
     "end_time": "2025-02-26T07:45:39.288038",
     "exception": false,
     "start_time": "2025-02-26T07:45:39.271001",
     "status": "completed"
    },
    "tags": []
   },
   "outputs": [
    {
     "data": {
      "application/javascript": [
       "parent.postMessage({\"jupyterEvent\": \"custom.exercise_interaction\", \"data\": {\"outcomeType\": 1, \"valueTowardsCompletion\": 0.2, \"interactionType\": 1, \"questionType\": 2, \"questionId\": \"3_EstimateHouseValueBool\", \"learnToolsVersion\": \"0.3.4\", \"failureMessage\": \"\", \"exceptionClass\": \"\", \"trace\": \"\"}}, \"*\")"
      ],
      "text/plain": [
       "<IPython.core.display.Javascript object>"
      ]
     },
     "metadata": {},
     "output_type": "display_data"
    },
    {
     "data": {
      "text/markdown": [
       "<span style=\"color:#33cc33\">Correct</span>"
      ],
      "text/plain": [
       "Correct"
      ]
     },
     "metadata": {},
     "output_type": "display_data"
    }
   ],
   "source": [
    "# TODO: Complete the function\n",
    "def get_expected_cost(beds, baths, has_basement):\n",
    "    value = 80000 + 30000 * beds + 10000 * baths + 40000 * has_basement\n",
    "    return value\n",
    "\n",
    "# Check your answer \n",
    "q3.check()"
   ]
  },
  {
   "cell_type": "code",
   "execution_count": 8,
   "id": "06fb659e",
   "metadata": {
    "execution": {
     "iopub.execute_input": "2025-02-26T07:45:39.301866Z",
     "iopub.status.busy": "2025-02-26T07:45:39.301490Z",
     "iopub.status.idle": "2025-02-26T07:45:39.305378Z",
     "shell.execute_reply": "2025-02-26T07:45:39.304280Z"
    },
    "papermill": {
     "duration": 0.012745,
     "end_time": "2025-02-26T07:45:39.307142",
     "exception": false,
     "start_time": "2025-02-26T07:45:39.294397",
     "status": "completed"
    },
    "tags": []
   },
   "outputs": [],
   "source": [
    "# Uncomment to see a hint\n",
    "#q3.hint()\n",
    "\n",
    "# Uncomment to view the solution\n",
    "#q3.solution()"
   ]
  },
  {
   "cell_type": "markdown",
   "id": "5c6e9817",
   "metadata": {
    "papermill": {
     "duration": 0.005843,
     "end_time": "2025-02-26T07:45:39.319360",
     "exception": false,
     "start_time": "2025-02-26T07:45:39.313517",
     "status": "completed"
    },
    "tags": []
   },
   "source": [
    "# Question 4\n",
    "\n",
    "We'll continue our study of boolean arithmetic.  For this question, your task is to provide a description of what happpens when you add booleans. \n",
    "\n",
    "Use the next code cell for your investigation.  Feel free to add or remove any lines of code - use it as your workspace!"
   ]
  },
  {
   "cell_type": "code",
   "execution_count": 9,
   "id": "0225b706",
   "metadata": {
    "execution": {
     "iopub.execute_input": "2025-02-26T07:45:39.332973Z",
     "iopub.status.busy": "2025-02-26T07:45:39.332559Z",
     "iopub.status.idle": "2025-02-26T07:45:39.338841Z",
     "shell.execute_reply": "2025-02-26T07:45:39.337806Z"
    },
    "papermill": {
     "duration": 0.015057,
     "end_time": "2025-02-26T07:45:39.340608",
     "exception": false,
     "start_time": "2025-02-26T07:45:39.325551",
     "status": "completed"
    },
    "tags": []
   },
   "outputs": [
    {
     "name": "stdout",
     "output_type": "stream",
     "text": [
      "0\n",
      "1\n",
      "1\n",
      "2\n",
      "3\n"
     ]
    }
   ],
   "source": [
    "print(False + False)\n",
    "print(True + False)\n",
    "print(False + True)\n",
    "print(True + True)\n",
    "print(False + True + True + True)"
   ]
  },
  {
   "cell_type": "markdown",
   "id": "a7d5efda",
   "metadata": {
    "papermill": {
     "duration": 0.00601,
     "end_time": "2025-02-26T07:45:39.352910",
     "exception": false,
     "start_time": "2025-02-26T07:45:39.346900",
     "status": "completed"
    },
    "tags": []
   },
   "source": [
    "Once you have an answer, run the code cell below to see the solution.  Viewing the solution will give you credit for answering the problem."
   ]
  },
  {
   "cell_type": "code",
   "execution_count": 10,
   "id": "6dd91af0",
   "metadata": {
    "execution": {
     "iopub.execute_input": "2025-02-26T07:45:39.366797Z",
     "iopub.status.busy": "2025-02-26T07:45:39.366395Z",
     "iopub.status.idle": "2025-02-26T07:45:39.373515Z",
     "shell.execute_reply": "2025-02-26T07:45:39.372487Z"
    },
    "papermill": {
     "duration": 0.016142,
     "end_time": "2025-02-26T07:45:39.375302",
     "exception": false,
     "start_time": "2025-02-26T07:45:39.359160",
     "status": "completed"
    },
    "tags": []
   },
   "outputs": [
    {
     "data": {
      "application/javascript": [
       "parent.postMessage({\"jupyterEvent\": \"custom.exercise_interaction\", \"data\": {\"outcomeType\": 1, \"valueTowardsCompletion\": 0.2, \"interactionType\": 1, \"questionType\": 4, \"questionId\": \"4_AddingBooleans\", \"learnToolsVersion\": \"0.3.4\", \"failureMessage\": \"\", \"exceptionClass\": \"\", \"trace\": \"\"}}, \"*\")"
      ],
      "text/plain": [
       "<IPython.core.display.Javascript object>"
      ]
     },
     "metadata": {},
     "output_type": "display_data"
    },
    {
     "data": {
      "text/markdown": [
       "<span style=\"color:#33cc33\">Correct:</span> \n",
       "\n",
       "When you add booleans, adding `False` is equivalent to adding 0, and adding `True` is equivalent to adding 1."
      ],
      "text/plain": [
       "Correct: \n",
       "\n",
       "When you add booleans, adding `False` is equivalent to adding 0, and adding `True` is equivalent to adding 1."
      ]
     },
     "metadata": {},
     "output_type": "display_data"
    }
   ],
   "source": [
    "# Check your answer (Run this code cell to receive credit!)\n",
    "q4.check()"
   ]
  },
  {
   "cell_type": "markdown",
   "id": "0a80f44d",
   "metadata": {
    "papermill": {
     "duration": 0.006087,
     "end_time": "2025-02-26T07:45:39.387787",
     "exception": false,
     "start_time": "2025-02-26T07:45:39.381700",
     "status": "completed"
    },
    "tags": []
   },
   "source": [
    "# 🌶️ Question 5\n",
    "\n",
    "You own an online shop where you sell rings with custom engravings.  You offer both gold plated and solid gold rings.\n",
    "- Gold plated rings have a base cost of \\\\$50, and you charge \\\\$7 per engraved unit.  \n",
    "- Solid gold rings have a base cost of \\\\$100, and you charge \\\\$10 per engraved unit.\n",
    "- Spaces and punctuation are counted as engraved units.\n",
    "\n",
    "Write a function `cost_of_project()` that takes two arguments:\n",
    "- `engraving` - a Python string with the text of the engraving\n",
    "- `solid_gold` - a Boolean that indicates whether the ring is solid gold\n",
    "\n",
    "It should return the cost of the project.  This question should be fairly challenging, and you may need a hint."
   ]
  },
  {
   "cell_type": "code",
   "execution_count": 11,
   "id": "70c99420",
   "metadata": {
    "execution": {
     "iopub.execute_input": "2025-02-26T07:45:39.401314Z",
     "iopub.status.busy": "2025-02-26T07:45:39.400997Z",
     "iopub.status.idle": "2025-02-26T07:45:39.408721Z",
     "shell.execute_reply": "2025-02-26T07:45:39.407681Z"
    },
    "papermill": {
     "duration": 0.016336,
     "end_time": "2025-02-26T07:45:39.410340",
     "exception": false,
     "start_time": "2025-02-26T07:45:39.394004",
     "status": "completed"
    },
    "tags": []
   },
   "outputs": [
    {
     "data": {
      "application/javascript": [
       "parent.postMessage({\"jupyterEvent\": \"custom.exercise_interaction\", \"data\": {\"outcomeType\": 1, \"valueTowardsCompletion\": 0.2, \"interactionType\": 1, \"questionType\": 2, \"questionId\": \"5_CustomEngravings\", \"learnToolsVersion\": \"0.3.4\", \"failureMessage\": \"\", \"exceptionClass\": \"\", \"trace\": \"\"}}, \"*\")"
      ],
      "text/plain": [
       "<IPython.core.display.Javascript object>"
      ]
     },
     "metadata": {},
     "output_type": "display_data"
    },
    {
     "data": {
      "text/markdown": [
       "<span style=\"color:#33cc33\">Correct</span>"
      ],
      "text/plain": [
       "Correct"
      ]
     },
     "metadata": {},
     "output_type": "display_data"
    }
   ],
   "source": [
    "def cost_of_project(engraving, solid_gold):\n",
    "    cost = solid_gold * (100 + 10 * len(engraving)) + (not solid_gold) * (50 + 7 * len(engraving))\n",
    "    return cost\n",
    "\n",
    "# Check your answer\n",
    "q5.check()"
   ]
  },
  {
   "cell_type": "code",
   "execution_count": 12,
   "id": "9cba0ad7",
   "metadata": {
    "execution": {
     "iopub.execute_input": "2025-02-26T07:45:39.424938Z",
     "iopub.status.busy": "2025-02-26T07:45:39.424554Z",
     "iopub.status.idle": "2025-02-26T07:45:39.428288Z",
     "shell.execute_reply": "2025-02-26T07:45:39.427136Z"
    },
    "papermill": {
     "duration": 0.012952,
     "end_time": "2025-02-26T07:45:39.430210",
     "exception": false,
     "start_time": "2025-02-26T07:45:39.417258",
     "status": "completed"
    },
    "tags": []
   },
   "outputs": [],
   "source": [
    "# Uncomment to see a hint\n",
    "#q5.hint()\n",
    "\n",
    "# Uncomment to view the solution\n",
    "#q5.solution()"
   ]
  },
  {
   "cell_type": "markdown",
   "id": "1f0750e2",
   "metadata": {
    "papermill": {
     "duration": 0.006344,
     "end_time": "2025-02-26T07:45:39.443366",
     "exception": false,
     "start_time": "2025-02-26T07:45:39.437022",
     "status": "completed"
    },
    "tags": []
   },
   "source": [
    "Run the next code cell to calculate the cost of engraving `Charlie+Denver` on a solid gold ring."
   ]
  },
  {
   "cell_type": "code",
   "execution_count": 13,
   "id": "0e02b35e",
   "metadata": {
    "execution": {
     "iopub.execute_input": "2025-02-26T07:45:39.457690Z",
     "iopub.status.busy": "2025-02-26T07:45:39.457332Z",
     "iopub.status.idle": "2025-02-26T07:45:39.462289Z",
     "shell.execute_reply": "2025-02-26T07:45:39.461211Z"
    },
    "papermill": {
     "duration": 0.013909,
     "end_time": "2025-02-26T07:45:39.463876",
     "exception": false,
     "start_time": "2025-02-26T07:45:39.449967",
     "status": "completed"
    },
    "tags": []
   },
   "outputs": [
    {
     "name": "stdout",
     "output_type": "stream",
     "text": [
      "240\n"
     ]
    }
   ],
   "source": [
    "project_one = cost_of_project(\"Charlie+Denver\", True)\n",
    "print(project_one)"
   ]
  },
  {
   "cell_type": "markdown",
   "id": "90ba7568",
   "metadata": {
    "papermill": {
     "duration": 0.006454,
     "end_time": "2025-02-26T07:45:39.477178",
     "exception": false,
     "start_time": "2025-02-26T07:45:39.470724",
     "status": "completed"
    },
    "tags": []
   },
   "source": [
    "Use the next code cell to calculate the cost of engraving `08/10/2000` on a gold plated ring."
   ]
  },
  {
   "cell_type": "code",
   "execution_count": 14,
   "id": "91d3205f",
   "metadata": {
    "execution": {
     "iopub.execute_input": "2025-02-26T07:45:39.491418Z",
     "iopub.status.busy": "2025-02-26T07:45:39.491052Z",
     "iopub.status.idle": "2025-02-26T07:45:39.495822Z",
     "shell.execute_reply": "2025-02-26T07:45:39.494756Z"
    },
    "papermill": {
     "duration": 0.013662,
     "end_time": "2025-02-26T07:45:39.497320",
     "exception": false,
     "start_time": "2025-02-26T07:45:39.483658",
     "status": "completed"
    },
    "tags": []
   },
   "outputs": [
    {
     "name": "stdout",
     "output_type": "stream",
     "text": [
      "120\n"
     ]
    }
   ],
   "source": [
    "project_two = cost_of_project(\"08/10/2000\", False)\n",
    "print(project_two)"
   ]
  },
  {
   "cell_type": "markdown",
   "id": "191ae15b",
   "metadata": {
    "papermill": {
     "duration": 0.006436,
     "end_time": "2025-02-26T07:45:39.510712",
     "exception": false,
     "start_time": "2025-02-26T07:45:39.504276",
     "status": "completed"
    },
    "tags": []
   },
   "source": [
    "# Keep going\n",
    "\n",
    "Continue to the next lesson to **[learn about conditions and conditional statements](https://www.kaggle.com/alexisbcook/conditions-and-conditional-statements)**."
   ]
  },
  {
   "cell_type": "markdown",
   "id": "2d9d6c9b",
   "metadata": {
    "papermill": {
     "duration": 0.006287,
     "end_time": "2025-02-26T07:45:39.523671",
     "exception": false,
     "start_time": "2025-02-26T07:45:39.517384",
     "status": "completed"
    },
    "tags": []
   },
   "source": [
    "---\n",
    "\n",
    "\n",
    "\n",
    "\n",
    "*Have questions or comments? Visit the [course discussion forum](https://www.kaggle.com/learn/intro-to-programming/discussion) to chat with other learners.*"
   ]
  }
 ],
 "metadata": {
  "kaggle": {
   "accelerator": "none",
   "dataSources": [],
   "isGpuEnabled": false,
   "isInternetEnabled": false,
   "language": "python",
   "sourceType": "notebook"
  },
  "kernelspec": {
   "display_name": "Python 3",
   "language": "python",
   "name": "python3"
  },
  "language_info": {
   "codemirror_mode": {
    "name": "ipython",
    "version": 3
   },
   "file_extension": ".py",
   "mimetype": "text/x-python",
   "name": "python",
   "nbconvert_exporter": "python",
   "pygments_lexer": "ipython3",
   "version": "3.10.12"
  },
  "papermill": {
   "default_parameters": {},
   "duration": 4.929062,
   "end_time": "2025-02-26T07:45:40.150113",
   "environment_variables": {},
   "exception": null,
   "input_path": "__notebook__.ipynb",
   "output_path": "__notebook__.ipynb",
   "parameters": {},
   "start_time": "2025-02-26T07:45:35.221051",
   "version": "2.3.3"
  }
 },
 "nbformat": 4,
 "nbformat_minor": 5
}
