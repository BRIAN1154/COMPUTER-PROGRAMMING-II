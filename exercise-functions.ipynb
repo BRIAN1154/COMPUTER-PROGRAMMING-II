{
 "cells": [
  {
   "cell_type": "markdown",
   "id": "00425c6f",
   "metadata": {
    "papermill": {
     "duration": 0.005821,
     "end_time": "2025-02-26T07:36:52.500927",
     "exception": false,
     "start_time": "2025-02-26T07:36:52.495106",
     "status": "completed"
    },
    "tags": []
   },
   "source": [
    "**This notebook is an exercise in the [Intro to Programming](https://www.kaggle.com/learn/intro-to-programming) course.  You can reference the tutorial at [this link](https://www.kaggle.com/alexisbcook/functions).**\n",
    "\n",
    "---\n"
   ]
  },
  {
   "cell_type": "code",
   "execution_count": 1,
   "id": "ada8a56a",
   "metadata": {
    "execution": {
     "iopub.execute_input": "2025-02-26T07:36:52.513182Z",
     "iopub.status.busy": "2025-02-26T07:36:52.512696Z",
     "iopub.status.idle": "2025-02-26T07:36:52.518093Z",
     "shell.execute_reply": "2025-02-26T07:36:52.517098Z"
    },
    "papermill": {
     "duration": 0.013457,
     "end_time": "2025-02-26T07:36:52.519737",
     "exception": false,
     "start_time": "2025-02-26T07:36:52.506280",
     "status": "completed"
    },
    "tags": []
   },
   "outputs": [],
   "source": [
    "def print_hello ():\n",
    "   print (\"hello friends\")"
   ]
  },
  {
   "cell_type": "markdown",
   "id": "66d44445",
   "metadata": {
    "papermill": {
     "duration": 0.005106,
     "end_time": "2025-02-26T07:36:52.530304",
     "exception": false,
     "start_time": "2025-02-26T07:36:52.525198",
     "status": "completed"
    },
    "tags": []
   },
   "source": [
    "In the tutorial, you learned about functions. In this exercise, you'll write some of your own!\n",
    "\n",
    "# Set up the notebook\n",
    "\n",
    "Run the next code cell without changes to set up the notebook."
   ]
  },
  {
   "cell_type": "code",
   "execution_count": 2,
   "id": "d68cc51d",
   "metadata": {
    "execution": {
     "iopub.execute_input": "2025-02-26T07:36:52.541823Z",
     "iopub.status.busy": "2025-02-26T07:36:52.541345Z",
     "iopub.status.idle": "2025-02-26T07:36:53.505302Z",
     "shell.execute_reply": "2025-02-26T07:36:53.504074Z"
    },
    "papermill": {
     "duration": 0.971754,
     "end_time": "2025-02-26T07:36:53.507194",
     "exception": false,
     "start_time": "2025-02-26T07:36:52.535440",
     "status": "completed"
    },
    "tags": []
   },
   "outputs": [
    {
     "name": "stdout",
     "output_type": "stream",
     "text": [
      "Setup complete.\n"
     ]
    }
   ],
   "source": [
    "# Set up the exercise\n",
    "import math\n",
    "from learntools.core import binder\n",
    "binder.bind(globals())\n",
    "from learntools.intro_to_programming.ex2 import *\n",
    "print('Setup complete.')"
   ]
  },
  {
   "cell_type": "markdown",
   "id": "9d21833a",
   "metadata": {
    "papermill": {
     "duration": 0.004964,
     "end_time": "2025-02-26T07:36:53.517405",
     "exception": false,
     "start_time": "2025-02-26T07:36:53.512441",
     "status": "completed"
    },
    "tags": []
   },
   "source": [
    "# Question 1\n",
    "\n",
    "In the [House Prices - Advanced Regression Techniques competition](https://www.kaggle.com/c/house-prices-advanced-regression-techniques/overview), you need to use information like the number of bedrooms and bathrooms to predict the price of a house.  Inspired by this competition, you'll write your own function to do this.\n",
    "\n",
    "In the next code cell, create a function `get_expected_cost()` that has two arguments:\n",
    "- `beds` - number of bedrooms \n",
    "- `baths` - number of bathrooms\n",
    "\n",
    "It should return the expected cost of a house with that number of bedrooms and bathrooms.  Assume that:\n",
    "- the expected cost for a house with 0 bedrooms and 0 bathrooms is `80000`.  \n",
    "- each bedroom adds `30000` to the expected cost\n",
    "- each bathroom adds `10000` to the expected cost.\n",
    "\n",
    "For instance, \n",
    "- a house with 1 bedroom and 1 bathroom has an expected cost of `120000`, and \n",
    "- a house with 2 bedrooms and 1 bathroom has an expected cost of `150000`."
   ]
  },
  {
   "cell_type": "code",
   "execution_count": 3,
   "id": "9b2ec77b",
   "metadata": {
    "execution": {
     "iopub.execute_input": "2025-02-26T07:36:53.529381Z",
     "iopub.status.busy": "2025-02-26T07:36:53.528884Z",
     "iopub.status.idle": "2025-02-26T07:36:53.537666Z",
     "shell.execute_reply": "2025-02-26T07:36:53.536666Z"
    },
    "papermill": {
     "duration": 0.016473,
     "end_time": "2025-02-26T07:36:53.539254",
     "exception": false,
     "start_time": "2025-02-26T07:36:53.522781",
     "status": "completed"
    },
    "tags": []
   },
   "outputs": [
    {
     "data": {
      "application/javascript": [
       "parent.postMessage({\"jupyterEvent\": \"custom.exercise_interaction\", \"data\": {\"outcomeType\": 1, \"valueTowardsCompletion\": 0.2, \"interactionType\": 1, \"questionType\": 2, \"questionId\": \"1_GetExpectedCost\", \"learnToolsVersion\": \"0.3.4\", \"failureMessage\": \"\", \"exceptionClass\": \"\", \"trace\": \"\"}}, \"*\")"
      ],
      "text/plain": [
       "<IPython.core.display.Javascript object>"
      ]
     },
     "metadata": {},
     "output_type": "display_data"
    },
    {
     "data": {
      "text/markdown": [
       "<span style=\"color:#33cc33\">Correct</span>"
      ],
      "text/plain": [
       "Correct"
      ]
     },
     "metadata": {},
     "output_type": "display_data"
    }
   ],
   "source": [
    "# TODO: Complete the function\n",
    "def get_expected_cost(beds, baths):\n",
    "    value=80000 + 30000 * beds + 10000 * baths\n",
    "    return value\n",
    "\n",
    "# Check your answer \n",
    "q1.check()"
   ]
  },
  {
   "cell_type": "code",
   "execution_count": 4,
   "id": "6a67f76f",
   "metadata": {
    "execution": {
     "iopub.execute_input": "2025-02-26T07:36:53.551832Z",
     "iopub.status.busy": "2025-02-26T07:36:53.551421Z",
     "iopub.status.idle": "2025-02-26T07:36:53.555307Z",
     "shell.execute_reply": "2025-02-26T07:36:53.554211Z"
    },
    "papermill": {
     "duration": 0.011952,
     "end_time": "2025-02-26T07:36:53.557084",
     "exception": false,
     "start_time": "2025-02-26T07:36:53.545132",
     "status": "completed"
    },
    "tags": []
   },
   "outputs": [],
   "source": [
    "# Uncomment to see a hint\n",
    "#q1.hint()\n",
    "\n",
    "# Uncomment to view the solution\n",
    "#q1.solution()"
   ]
  },
  {
   "cell_type": "markdown",
   "id": "3b391f6c",
   "metadata": {
    "papermill": {
     "duration": 0.005167,
     "end_time": "2025-02-26T07:36:53.567916",
     "exception": false,
     "start_time": "2025-02-26T07:36:53.562749",
     "status": "completed"
    },
    "tags": []
   },
   "source": [
    "# Question 2\n",
    "\n",
    "You are thinking about buying a home and want to get an idea of how much you will spend, based on the number of bedrooms and bathrooms.  You are trying to decide between four different options:\n",
    "- Option 1: house with two bedrooms and three bathrooms\n",
    "- Option 2: house with three bedrooms and two bathrooms\n",
    "- Option 3: house with three bedrooms and three bathrooms\n",
    "- Option 4: house with three bedrooms and four bathrooms\n",
    "\n",
    "Use the `get_expected_cost()` function you defined in question 1 to set `option_1`, `option_2`, `option_3`, and `option_4` to the expected cost of each option."
   ]
  },
  {
   "cell_type": "code",
   "execution_count": 5,
   "id": "20fcc5c1",
   "metadata": {
    "execution": {
     "iopub.execute_input": "2025-02-26T07:36:53.579965Z",
     "iopub.status.busy": "2025-02-26T07:36:53.579538Z",
     "iopub.status.idle": "2025-02-26T07:36:53.589169Z",
     "shell.execute_reply": "2025-02-26T07:36:53.588174Z"
    },
    "papermill": {
     "duration": 0.017444,
     "end_time": "2025-02-26T07:36:53.590681",
     "exception": false,
     "start_time": "2025-02-26T07:36:53.573237",
     "status": "completed"
    },
    "tags": []
   },
   "outputs": [
    {
     "name": "stdout",
     "output_type": "stream",
     "text": [
      "170000\n",
      "190000\n",
      "200000\n",
      "210000\n"
     ]
    },
    {
     "data": {
      "application/javascript": [
       "parent.postMessage({\"jupyterEvent\": \"custom.exercise_interaction\", \"data\": {\"outcomeType\": 1, \"valueTowardsCompletion\": 0.2, \"interactionType\": 1, \"questionType\": 1, \"questionId\": \"2_RunGetExpectedCost\", \"learnToolsVersion\": \"0.3.4\", \"failureMessage\": \"\", \"exceptionClass\": \"\", \"trace\": \"\"}}, \"*\")"
      ],
      "text/plain": [
       "<IPython.core.display.Javascript object>"
      ]
     },
     "metadata": {},
     "output_type": "display_data"
    },
    {
     "data": {
      "text/markdown": [
       "<span style=\"color:#33cc33\">Correct</span>"
      ],
      "text/plain": [
       "Correct"
      ]
     },
     "metadata": {},
     "output_type": "display_data"
    }
   ],
   "source": [
    "# TODO: Use the get_expected_cost function to fill in each value\n",
    "option_one = get_expected_cost(2, 3)\n",
    "option_two = get_expected_cost(3, 2)\n",
    "option_three = get_expected_cost(3, 3)\n",
    "option_four = get_expected_cost(3, 4)\n",
    "\n",
    "print(option_one)\n",
    "print(option_two)\n",
    "print(option_three)\n",
    "print(option_four)\n",
    "\n",
    "# Check your answer\n",
    "q2.check()"
   ]
  },
  {
   "cell_type": "code",
   "execution_count": 6,
   "id": "e205c512",
   "metadata": {
    "execution": {
     "iopub.execute_input": "2025-02-26T07:36:53.603707Z",
     "iopub.status.busy": "2025-02-26T07:36:53.603319Z",
     "iopub.status.idle": "2025-02-26T07:36:53.607098Z",
     "shell.execute_reply": "2025-02-26T07:36:53.606056Z"
    },
    "papermill": {
     "duration": 0.012032,
     "end_time": "2025-02-26T07:36:53.608700",
     "exception": false,
     "start_time": "2025-02-26T07:36:53.596668",
     "status": "completed"
    },
    "tags": []
   },
   "outputs": [],
   "source": [
    "# Uncomment to see a hint\n",
    "#q2.hint()\n",
    "\n",
    "# Uncomment to view the solution\n",
    "#q2.solution()"
   ]
  },
  {
   "cell_type": "markdown",
   "id": "480dae01",
   "metadata": {
    "papermill": {
     "duration": 0.006281,
     "end_time": "2025-02-26T07:36:53.620714",
     "exception": false,
     "start_time": "2025-02-26T07:36:53.614433",
     "status": "completed"
    },
    "tags": []
   },
   "source": [
    "# Question 3\n",
    "\n",
    "You're a home decorator, and you'd like to use Python to streamline some of your work.  Specifically, you're creating a tool that you intend to use to calculate the cost of painting a room.\n",
    "\n",
    "As a first step, define a function `get_cost()` that takes as input:\n",
    "- `sqft_walls` = total square feet of walls to be painted\n",
    "- `sqft_ceiling` = square feet of ceiling to be painted\n",
    "- `sqft_per_gallon` = number of square feet that you can cover with one gallon of paint\n",
    "- `cost_per_gallon` = cost (in dollars) of one gallon of paint\n",
    "\n",
    "It should return the cost (in dollars) of putting one coat of paint on all walls and the ceiling.  Assume you can buy the exact amount of paint that you need, so you can buy partial gallons (e.g., if you need 7.523 gallons, you can buy that exact amount, instead of needing to buy 8 gallons and waste some paint).  Do not round your answer."
   ]
  },
  {
   "cell_type": "code",
   "execution_count": 7,
   "id": "d3fa12cc",
   "metadata": {
    "execution": {
     "iopub.execute_input": "2025-02-26T07:36:53.633369Z",
     "iopub.status.busy": "2025-02-26T07:36:53.632994Z",
     "iopub.status.idle": "2025-02-26T07:36:53.640504Z",
     "shell.execute_reply": "2025-02-26T07:36:53.639578Z"
    },
    "papermill": {
     "duration": 0.015833,
     "end_time": "2025-02-26T07:36:53.642310",
     "exception": false,
     "start_time": "2025-02-26T07:36:53.626477",
     "status": "completed"
    },
    "tags": []
   },
   "outputs": [
    {
     "data": {
      "application/javascript": [
       "parent.postMessage({\"jupyterEvent\": \"custom.exercise_interaction\", \"data\": {\"outcomeType\": 1, \"valueTowardsCompletion\": 0.2, \"interactionType\": 1, \"questionType\": 2, \"questionId\": \"3_GetCostPaint\", \"learnToolsVersion\": \"0.3.4\", \"failureMessage\": \"\", \"exceptionClass\": \"\", \"trace\": \"\"}}, \"*\")"
      ],
      "text/plain": [
       "<IPython.core.display.Javascript object>"
      ]
     },
     "metadata": {},
     "output_type": "display_data"
    },
    {
     "data": {
      "text/markdown": [
       "<span style=\"color:#33cc33\">Correct</span>"
      ],
      "text/plain": [
       "Correct"
      ]
     },
     "metadata": {},
     "output_type": "display_data"
    }
   ],
   "source": [
    "# TODO: Finish defining the function\n",
    "def get_cost(sqft_walls, sqft_ceiling, sqft_per_gallon, cost_per_gallon):\n",
    "    total_sqft = sqft_walls + sqft_ceiling\n",
    "    gallons_needed = total_sqft / sqft_per_gallon\n",
    "    cost = cost_per_gallon * gallons_needed\n",
    "    return cost\n",
    "\n",
    "# Check your answer\n",
    "q3.check()"
   ]
  },
  {
   "cell_type": "code",
   "execution_count": 8,
   "id": "289bf81c",
   "metadata": {
    "execution": {
     "iopub.execute_input": "2025-02-26T07:36:53.655809Z",
     "iopub.status.busy": "2025-02-26T07:36:53.655408Z",
     "iopub.status.idle": "2025-02-26T07:36:53.659309Z",
     "shell.execute_reply": "2025-02-26T07:36:53.658076Z"
    },
    "papermill": {
     "duration": 0.012563,
     "end_time": "2025-02-26T07:36:53.661109",
     "exception": false,
     "start_time": "2025-02-26T07:36:53.648546",
     "status": "completed"
    },
    "tags": []
   },
   "outputs": [],
   "source": [
    "# Uncomment to see a hint\n",
    "#q3.hint()\n",
    "\n",
    "# Uncomment to view the solution\n",
    "#q3.solution()"
   ]
  },
  {
   "cell_type": "markdown",
   "id": "1154e2e7",
   "metadata": {
    "papermill": {
     "duration": 0.005542,
     "end_time": "2025-02-26T07:36:53.673063",
     "exception": false,
     "start_time": "2025-02-26T07:36:53.667521",
     "status": "completed"
    },
    "tags": []
   },
   "source": [
    "# Question 4\n",
    "\n",
    "Use the `get_cost()` function you defined in Question 3 to calculate the cost of applying one coat of paint to a room with:\n",
    "- 432 square feet of walls, and\n",
    "- 144 square feet of ceiling.\n",
    "\n",
    "Assume that one gallon of paint covers 400 square feet and costs $15.  As in Question 3, assume you can buy partial gallons of paint.  Do not round your answer."
   ]
  },
  {
   "cell_type": "code",
   "execution_count": 9,
   "id": "4d4bacf0",
   "metadata": {
    "execution": {
     "iopub.execute_input": "2025-02-26T07:36:53.685766Z",
     "iopub.status.busy": "2025-02-26T07:36:53.685400Z",
     "iopub.status.idle": "2025-02-26T07:36:53.692337Z",
     "shell.execute_reply": "2025-02-26T07:36:53.691440Z"
    },
    "papermill": {
     "duration": 0.015029,
     "end_time": "2025-02-26T07:36:53.693861",
     "exception": false,
     "start_time": "2025-02-26T07:36:53.678832",
     "status": "completed"
    },
    "tags": []
   },
   "outputs": [
    {
     "data": {
      "application/javascript": [
       "parent.postMessage({\"jupyterEvent\": \"custom.exercise_interaction\", \"data\": {\"outcomeType\": 1, \"valueTowardsCompletion\": 0.2, \"interactionType\": 1, \"questionType\": 1, \"questionId\": \"4_GetCostPaintExample\", \"learnToolsVersion\": \"0.3.4\", \"failureMessage\": \"\", \"exceptionClass\": \"\", \"trace\": \"\"}}, \"*\")"
      ],
      "text/plain": [
       "<IPython.core.display.Javascript object>"
      ]
     },
     "metadata": {},
     "output_type": "display_data"
    },
    {
     "data": {
      "text/markdown": [
       "<span style=\"color:#33cc33\">Correct</span>"
      ],
      "text/plain": [
       "Correct"
      ]
     },
     "metadata": {},
     "output_type": "display_data"
    }
   ],
   "source": [
    "# TODO: Set the project_cost variable to the cost of the project\n",
    "project_cost =get_cost(432, 144, 400, 15)\n",
    "\n",
    "# Check your answer\n",
    "q4.check()"
   ]
  },
  {
   "cell_type": "code",
   "execution_count": 10,
   "id": "b896cb08",
   "metadata": {
    "execution": {
     "iopub.execute_input": "2025-02-26T07:36:53.707260Z",
     "iopub.status.busy": "2025-02-26T07:36:53.706945Z",
     "iopub.status.idle": "2025-02-26T07:36:53.710489Z",
     "shell.execute_reply": "2025-02-26T07:36:53.709596Z"
    },
    "papermill": {
     "duration": 0.0121,
     "end_time": "2025-02-26T07:36:53.712175",
     "exception": false,
     "start_time": "2025-02-26T07:36:53.700075",
     "status": "completed"
    },
    "tags": []
   },
   "outputs": [],
   "source": [
    "# Uncomment to see a hint\n",
    "#q4.hint()\n",
    "\n",
    "# Uncomment to view the solution\n",
    "#q4.solution()"
   ]
  },
  {
   "cell_type": "markdown",
   "id": "8c1e2d9b",
   "metadata": {
    "papermill": {
     "duration": 0.00573,
     "end_time": "2025-02-26T07:36:53.723962",
     "exception": false,
     "start_time": "2025-02-26T07:36:53.718232",
     "status": "completed"
    },
    "tags": []
   },
   "source": [
    "# 🌶️ Question 5\n",
    "\n",
    "Now say you can no longer buy fractions of a gallon.  (For instance, if you need 4.3 gallons to do a project, then you have to buy 5 gallons of paint.)\n",
    "\n",
    "With this new scenario, you will create a new function `get_actual_cost` that uses the same inputs and calculates the cost of your project.\n",
    "\n",
    "One function that you'll need to use to do this is `math.ceil()`.  We demonstrate usage of this function in the code cell below.  It takes as a number as input and rounds the number up to the nearest integer.  \n",
    "\n",
    "Run the next code cell to test this function for yourself.  Feel free to change the value of `test_value` and make sure `math.ceil()` returns the number you expect."
   ]
  },
  {
   "cell_type": "code",
   "execution_count": 11,
   "id": "ace59606",
   "metadata": {
    "execution": {
     "iopub.execute_input": "2025-02-26T07:36:53.737188Z",
     "iopub.status.busy": "2025-02-26T07:36:53.736834Z",
     "iopub.status.idle": "2025-02-26T07:36:53.741867Z",
     "shell.execute_reply": "2025-02-26T07:36:53.740772Z"
    },
    "papermill": {
     "duration": 0.013988,
     "end_time": "2025-02-26T07:36:53.743963",
     "exception": false,
     "start_time": "2025-02-26T07:36:53.729975",
     "status": "completed"
    },
    "tags": []
   },
   "outputs": [
    {
     "name": "stdout",
     "output_type": "stream",
     "text": [
      "3\n"
     ]
    }
   ],
   "source": [
    "test_value = 2.17\n",
    "\n",
    "rounded_value = math.ceil(test_value)\n",
    "print(rounded_value)"
   ]
  },
  {
   "cell_type": "markdown",
   "id": "8d86b6f1",
   "metadata": {
    "papermill": {
     "duration": 0.005821,
     "end_time": "2025-02-26T07:36:53.755992",
     "exception": false,
     "start_time": "2025-02-26T07:36:53.750171",
     "status": "completed"
    },
    "tags": []
   },
   "source": [
    "Use the next code cell to define the function `get_actual_cost()`.  You'll need to use the `math.ceil()` function to do this.\n",
    "\n",
    "When answering this question, note that it's completely valid to define a function that makes use of another function.  For instance, we can define a function `round_up_and_divide_by_three` that makes use of the `math.ceil` function:\n",
    "```\n",
    "def round_up_and_divide_by_three(num):\n",
    "    new_value = math.ceil(num)\n",
    "    final_value = new_value / 3\n",
    "    return final_value\n",
    "```"
   ]
  },
  {
   "cell_type": "code",
   "execution_count": 12,
   "id": "fb38167d",
   "metadata": {
    "execution": {
     "iopub.execute_input": "2025-02-26T07:36:53.769276Z",
     "iopub.status.busy": "2025-02-26T07:36:53.768955Z",
     "iopub.status.idle": "2025-02-26T07:36:53.776631Z",
     "shell.execute_reply": "2025-02-26T07:36:53.775651Z"
    },
    "papermill": {
     "duration": 0.016043,
     "end_time": "2025-02-26T07:36:53.778191",
     "exception": false,
     "start_time": "2025-02-26T07:36:53.762148",
     "status": "completed"
    },
    "tags": []
   },
   "outputs": [
    {
     "data": {
      "application/javascript": [
       "parent.postMessage({\"jupyterEvent\": \"custom.exercise_interaction\", \"data\": {\"outcomeType\": 1, \"valueTowardsCompletion\": 0.2, \"interactionType\": 1, \"questionType\": 2, \"questionId\": \"5_NoMoreFractions\", \"learnToolsVersion\": \"0.3.4\", \"failureMessage\": \"\", \"exceptionClass\": \"\", \"trace\": \"\"}}, \"*\")"
      ],
      "text/plain": [
       "<IPython.core.display.Javascript object>"
      ]
     },
     "metadata": {},
     "output_type": "display_data"
    },
    {
     "data": {
      "text/markdown": [
       "<span style=\"color:#33cc33\">Correct</span>"
      ],
      "text/plain": [
       "Correct"
      ]
     },
     "metadata": {},
     "output_type": "display_data"
    }
   ],
   "source": [
    "def get_actual_cost(sqft_walls, sqft_ceiling, sqft_per_gallon, cost_per_gallon):\n",
    "    total_sqft = sqft_walls + sqft_ceiling\n",
    "    gallons_needed = total_sqft / sqft_per_gallon\n",
    "    gallons_to_buy = math.ceil(gallons_needed)\n",
    "    cost = cost_per_gallon * gallons_to_buy\n",
    "    return cost\n",
    "\n",
    "# Check your answer\n",
    "q5.check()"
   ]
  },
  {
   "cell_type": "code",
   "execution_count": 13,
   "id": "fde38222",
   "metadata": {
    "execution": {
     "iopub.execute_input": "2025-02-26T07:36:53.792325Z",
     "iopub.status.busy": "2025-02-26T07:36:53.792000Z",
     "iopub.status.idle": "2025-02-26T07:36:53.796012Z",
     "shell.execute_reply": "2025-02-26T07:36:53.794952Z"
    },
    "papermill": {
     "duration": 0.013218,
     "end_time": "2025-02-26T07:36:53.797731",
     "exception": false,
     "start_time": "2025-02-26T07:36:53.784513",
     "status": "completed"
    },
    "tags": []
   },
   "outputs": [],
   "source": [
    "# Uncomment to see a hint\n",
    "#q5.hint()\n",
    "\n",
    "# Uncomment to view the solution\n",
    "#q5.solution()"
   ]
  },
  {
   "cell_type": "markdown",
   "id": "a1ffc118",
   "metadata": {
    "papermill": {
     "duration": 0.006084,
     "end_time": "2025-02-26T07:36:53.810402",
     "exception": false,
     "start_time": "2025-02-26T07:36:53.804318",
     "status": "completed"
    },
    "tags": []
   },
   "source": [
    "Once your function is verified as correct, run the next code cell to calculate the updated cost of your project."
   ]
  },
  {
   "cell_type": "code",
   "execution_count": 14,
   "id": "06f967d0",
   "metadata": {
    "execution": {
     "iopub.execute_input": "2025-02-26T07:36:53.824248Z",
     "iopub.status.busy": "2025-02-26T07:36:53.823934Z",
     "iopub.status.idle": "2025-02-26T07:36:53.829643Z",
     "shell.execute_reply": "2025-02-26T07:36:53.828720Z"
    },
    "papermill": {
     "duration": 0.01452,
     "end_time": "2025-02-26T07:36:53.831295",
     "exception": false,
     "start_time": "2025-02-26T07:36:53.816775",
     "status": "completed"
    },
    "tags": []
   },
   "outputs": [
    {
     "data": {
      "text/plain": [
       "30"
      ]
     },
     "execution_count": 14,
     "metadata": {},
     "output_type": "execute_result"
    }
   ],
   "source": [
    "get_actual_cost(432, 144, 400, 15) "
   ]
  },
  {
   "cell_type": "markdown",
   "id": "2423458d",
   "metadata": {
    "papermill": {
     "duration": 0.006048,
     "end_time": "2025-02-26T07:36:53.844089",
     "exception": false,
     "start_time": "2025-02-26T07:36:53.838041",
     "status": "completed"
    },
    "tags": []
   },
   "source": [
    "Say you're working with a slightly larger room.  Run the next code cell to calculate the cost of the project."
   ]
  },
  {
   "cell_type": "code",
   "execution_count": 15,
   "id": "1dabe4b8",
   "metadata": {
    "execution": {
     "iopub.execute_input": "2025-02-26T07:36:53.858104Z",
     "iopub.status.busy": "2025-02-26T07:36:53.857622Z",
     "iopub.status.idle": "2025-02-26T07:36:53.863428Z",
     "shell.execute_reply": "2025-02-26T07:36:53.862537Z"
    },
    "papermill": {
     "duration": 0.014784,
     "end_time": "2025-02-26T07:36:53.865137",
     "exception": false,
     "start_time": "2025-02-26T07:36:53.850353",
     "status": "completed"
    },
    "tags": []
   },
   "outputs": [
    {
     "data": {
      "text/plain": [
       "45"
      ]
     },
     "execution_count": 15,
     "metadata": {},
     "output_type": "execute_result"
    }
   ],
   "source": [
    "get_actual_cost(594, 288, 400, 15) "
   ]
  },
  {
   "cell_type": "markdown",
   "id": "21ef15b8",
   "metadata": {
    "papermill": {
     "duration": 0.006243,
     "end_time": "2025-02-26T07:36:53.878090",
     "exception": false,
     "start_time": "2025-02-26T07:36:53.871847",
     "status": "completed"
    },
    "tags": []
   },
   "source": [
    "# Keep going\n",
    "\n",
    "Continue to learn about **[data types](https://www.kaggle.com/alexisbcook/data-types)**."
   ]
  },
  {
   "cell_type": "markdown",
   "id": "bddfd745",
   "metadata": {
    "papermill": {
     "duration": 0.006262,
     "end_time": "2025-02-26T07:36:53.890997",
     "exception": false,
     "start_time": "2025-02-26T07:36:53.884735",
     "status": "completed"
    },
    "tags": []
   },
   "source": [
    "---\n",
    "\n",
    "\n",
    "\n",
    "\n",
    "*Have questions or comments? Visit the [course discussion forum](https://www.kaggle.com/learn/intro-to-programming/discussion) to chat with other learners.*"
   ]
  }
 ],
 "metadata": {
  "kaggle": {
   "accelerator": "none",
   "dataSources": [],
   "isGpuEnabled": false,
   "isInternetEnabled": false,
   "language": "python",
   "sourceType": "notebook"
  },
  "kernelspec": {
   "display_name": "Python 3",
   "language": "python",
   "name": "python3"
  },
  "language_info": {
   "codemirror_mode": {
    "name": "ipython",
    "version": 3
   },
   "file_extension": ".py",
   "mimetype": "text/x-python",
   "name": "python",
   "nbconvert_exporter": "python",
   "pygments_lexer": "ipython3",
   "version": "3.10.12"
  },
  "papermill": {
   "default_parameters": {},
   "duration": 4.747031,
   "end_time": "2025-02-26T07:36:54.417816",
   "environment_variables": {},
   "exception": null,
   "input_path": "__notebook__.ipynb",
   "output_path": "__notebook__.ipynb",
   "parameters": {},
   "start_time": "2025-02-26T07:36:49.670785",
   "version": "2.6.0"
  }
 },
 "nbformat": 4,
 "nbformat_minor": 5
}
